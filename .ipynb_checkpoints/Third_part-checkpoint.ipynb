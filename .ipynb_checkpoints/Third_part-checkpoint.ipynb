{
 "cells": [
  {
   "cell_type": "markdown",
   "id": "9acba414",
   "metadata": {},
   "source": [
    "## Data preparation"
   ]
  },
  {
   "cell_type": "code",
   "execution_count": 1,
   "id": "bcd4ff60",
   "metadata": {},
   "outputs": [],
   "source": [
    "categories = ['negative', 'positive']"
   ]
  },
  {
   "cell_type": "code",
   "execution_count": 2,
   "id": "7729c76f",
   "metadata": {},
   "outputs": [],
   "source": [
    "data = []\n",
    "target_names = []\n",
    "\n",
    "with open(\"./sentiment labelled sentences/amazon_cells_labelled.txt\", encoding=\"utf-8\") as f:\n",
    "    for line in f:\n",
    "        (text, answer) = line.split('\\t')\n",
    "        data.append(text)\n",
    "        target_names.append(int(answer[:-1]))\n",
    "\n",
    "with open(\"./sentiment labelled sentences/imdb_labelled.txt\", encoding=\"utf-8\") as f:\n",
    "    for line in f:\n",
    "        (text, answer) = line.split('\\t')\n",
    "        data.append(text)\n",
    "        target_names.append(int(answer[:-1]))\n",
    "        \n",
    "with open(\"./sentiment labelled sentences/yelp_labelled.txt\", encoding=\"utf-8\") as f:\n",
    "    for line in f:\n",
    "        (text, answer) = line.split('\\t')\n",
    "        data.append(text)\n",
    "        target_names.append(int(answer[:-1]))"
   ]
  },
  {
   "cell_type": "code",
   "execution_count": 4,
   "id": "24333124",
   "metadata": {},
   "outputs": [
    {
     "data": {
      "text/html": [
       "<div>\n",
       "<style scoped>\n",
       "    .dataframe tbody tr th:only-of-type {\n",
       "        vertical-align: middle;\n",
       "    }\n",
       "\n",
       "    .dataframe tbody tr th {\n",
       "        vertical-align: top;\n",
       "    }\n",
       "\n",
       "    .dataframe thead th {\n",
       "        text-align: right;\n",
       "    }\n",
       "</style>\n",
       "<table border=\"1\" class=\"dataframe\">\n",
       "  <thead>\n",
       "    <tr style=\"text-align: right;\">\n",
       "      <th></th>\n",
       "      <th>text</th>\n",
       "      <th>category</th>\n",
       "      <th>category_name</th>\n",
       "    </tr>\n",
       "  </thead>\n",
       "  <tbody>\n",
       "    <tr>\n",
       "      <th>0</th>\n",
       "      <td>So there is no way for me to plug it in here i...</td>\n",
       "      <td>0</td>\n",
       "      <td>negative</td>\n",
       "    </tr>\n",
       "    <tr>\n",
       "      <th>1</th>\n",
       "      <td>Good case, Excellent value.</td>\n",
       "      <td>1</td>\n",
       "      <td>positive</td>\n",
       "    </tr>\n",
       "    <tr>\n",
       "      <th>2</th>\n",
       "      <td>Great for the jawbone.</td>\n",
       "      <td>1</td>\n",
       "      <td>positive</td>\n",
       "    </tr>\n",
       "    <tr>\n",
       "      <th>3</th>\n",
       "      <td>Tied to charger for conversations lasting more...</td>\n",
       "      <td>0</td>\n",
       "      <td>negative</td>\n",
       "    </tr>\n",
       "    <tr>\n",
       "      <th>4</th>\n",
       "      <td>The mic is great.</td>\n",
       "      <td>1</td>\n",
       "      <td>positive</td>\n",
       "    </tr>\n",
       "    <tr>\n",
       "      <th>...</th>\n",
       "      <td>...</td>\n",
       "      <td>...</td>\n",
       "      <td>...</td>\n",
       "    </tr>\n",
       "    <tr>\n",
       "      <th>2995</th>\n",
       "      <td>I think food should have flavor and texture an...</td>\n",
       "      <td>0</td>\n",
       "      <td>negative</td>\n",
       "    </tr>\n",
       "    <tr>\n",
       "      <th>2996</th>\n",
       "      <td>Appetite instantly gone.</td>\n",
       "      <td>0</td>\n",
       "      <td>negative</td>\n",
       "    </tr>\n",
       "    <tr>\n",
       "      <th>2997</th>\n",
       "      <td>Overall I was not impressed and would not go b...</td>\n",
       "      <td>0</td>\n",
       "      <td>negative</td>\n",
       "    </tr>\n",
       "    <tr>\n",
       "      <th>2998</th>\n",
       "      <td>The whole experience was underwhelming, and I ...</td>\n",
       "      <td>0</td>\n",
       "      <td>negative</td>\n",
       "    </tr>\n",
       "    <tr>\n",
       "      <th>2999</th>\n",
       "      <td>Then, as if I hadn't wasted enough of my life ...</td>\n",
       "      <td>0</td>\n",
       "      <td>negative</td>\n",
       "    </tr>\n",
       "  </tbody>\n",
       "</table>\n",
       "<p>3000 rows × 3 columns</p>\n",
       "</div>"
      ],
      "text/plain": [
       "                                                   text  category  \\\n",
       "0     So there is no way for me to plug it in here i...         0   \n",
       "1                           Good case, Excellent value.         1   \n",
       "2                                Great for the jawbone.         1   \n",
       "3     Tied to charger for conversations lasting more...         0   \n",
       "4                                     The mic is great.         1   \n",
       "...                                                 ...       ...   \n",
       "2995  I think food should have flavor and texture an...         0   \n",
       "2996                           Appetite instantly gone.         0   \n",
       "2997  Overall I was not impressed and would not go b...         0   \n",
       "2998  The whole experience was underwhelming, and I ...         0   \n",
       "2999  Then, as if I hadn't wasted enough of my life ...         0   \n",
       "\n",
       "     category_name  \n",
       "0         negative  \n",
       "1         positive  \n",
       "2         positive  \n",
       "3         negative  \n",
       "4         positive  \n",
       "...            ...  \n",
       "2995      negative  \n",
       "2996      negative  \n",
       "2997      negative  \n",
       "2998      negative  \n",
       "2999      negative  \n",
       "\n",
       "[3000 rows x 3 columns]"
      ]
     },
     "execution_count": 4,
     "metadata": {},
     "output_type": "execute_result"
    }
   ],
   "source": [
    "import pandas as pd\n",
    "X = pd.DataFrame(data, columns=['text'])\n",
    "X['category'] = target_names\n",
    "\n",
    "temp_list = []\n",
    "for i in target_names:\n",
    "    temp_list.append(categories[target_names[i]])\n",
    "X['category_name'] = temp_list\n",
    "X"
   ]
  },
  {
   "cell_type": "markdown",
   "id": "d2307821",
   "metadata": {},
   "source": [
    "## Drop duplicate"
   ]
  },
  {
   "cell_type": "code",
   "execution_count": 5,
   "id": "697caba5",
   "metadata": {},
   "outputs": [
    {
     "data": {
      "text/html": [
       "<div>\n",
       "<style scoped>\n",
       "    .dataframe tbody tr th:only-of-type {\n",
       "        vertical-align: middle;\n",
       "    }\n",
       "\n",
       "    .dataframe tbody tr th {\n",
       "        vertical-align: top;\n",
       "    }\n",
       "\n",
       "    .dataframe thead th {\n",
       "        text-align: right;\n",
       "    }\n",
       "</style>\n",
       "<table border=\"1\" class=\"dataframe\">\n",
       "  <thead>\n",
       "    <tr style=\"text-align: right;\">\n",
       "      <th></th>\n",
       "      <th>text</th>\n",
       "      <th>category</th>\n",
       "      <th>category_name</th>\n",
       "    </tr>\n",
       "  </thead>\n",
       "  <tbody>\n",
       "    <tr>\n",
       "      <th>0</th>\n",
       "      <td>So there is no way for me to plug it in here i...</td>\n",
       "      <td>0</td>\n",
       "      <td>negative</td>\n",
       "    </tr>\n",
       "    <tr>\n",
       "      <th>1</th>\n",
       "      <td>Good case, Excellent value.</td>\n",
       "      <td>1</td>\n",
       "      <td>positive</td>\n",
       "    </tr>\n",
       "    <tr>\n",
       "      <th>2</th>\n",
       "      <td>Great for the jawbone.</td>\n",
       "      <td>1</td>\n",
       "      <td>positive</td>\n",
       "    </tr>\n",
       "    <tr>\n",
       "      <th>3</th>\n",
       "      <td>Tied to charger for conversations lasting more...</td>\n",
       "      <td>0</td>\n",
       "      <td>negative</td>\n",
       "    </tr>\n",
       "    <tr>\n",
       "      <th>4</th>\n",
       "      <td>The mic is great.</td>\n",
       "      <td>1</td>\n",
       "      <td>positive</td>\n",
       "    </tr>\n",
       "    <tr>\n",
       "      <th>...</th>\n",
       "      <td>...</td>\n",
       "      <td>...</td>\n",
       "      <td>...</td>\n",
       "    </tr>\n",
       "    <tr>\n",
       "      <th>2978</th>\n",
       "      <td>I think food should have flavor and texture an...</td>\n",
       "      <td>0</td>\n",
       "      <td>negative</td>\n",
       "    </tr>\n",
       "    <tr>\n",
       "      <th>2979</th>\n",
       "      <td>Appetite instantly gone.</td>\n",
       "      <td>0</td>\n",
       "      <td>negative</td>\n",
       "    </tr>\n",
       "    <tr>\n",
       "      <th>2980</th>\n",
       "      <td>Overall I was not impressed and would not go b...</td>\n",
       "      <td>0</td>\n",
       "      <td>negative</td>\n",
       "    </tr>\n",
       "    <tr>\n",
       "      <th>2981</th>\n",
       "      <td>The whole experience was underwhelming, and I ...</td>\n",
       "      <td>0</td>\n",
       "      <td>negative</td>\n",
       "    </tr>\n",
       "    <tr>\n",
       "      <th>2982</th>\n",
       "      <td>Then, as if I hadn't wasted enough of my life ...</td>\n",
       "      <td>0</td>\n",
       "      <td>negative</td>\n",
       "    </tr>\n",
       "  </tbody>\n",
       "</table>\n",
       "<p>2983 rows × 3 columns</p>\n",
       "</div>"
      ],
      "text/plain": [
       "                                                   text  category  \\\n",
       "0     So there is no way for me to plug it in here i...         0   \n",
       "1                           Good case, Excellent value.         1   \n",
       "2                                Great for the jawbone.         1   \n",
       "3     Tied to charger for conversations lasting more...         0   \n",
       "4                                     The mic is great.         1   \n",
       "...                                                 ...       ...   \n",
       "2978  I think food should have flavor and texture an...         0   \n",
       "2979                           Appetite instantly gone.         0   \n",
       "2980  Overall I was not impressed and would not go b...         0   \n",
       "2981  The whole experience was underwhelming, and I ...         0   \n",
       "2982  Then, as if I hadn't wasted enough of my life ...         0   \n",
       "\n",
       "     category_name  \n",
       "0         negative  \n",
       "1         positive  \n",
       "2         positive  \n",
       "3         negative  \n",
       "4         positive  \n",
       "...            ...  \n",
       "2978      negative  \n",
       "2979      negative  \n",
       "2980      negative  \n",
       "2981      negative  \n",
       "2982      negative  \n",
       "\n",
       "[2983 rows x 3 columns]"
      ]
     },
     "execution_count": 5,
     "metadata": {},
     "output_type": "execute_result"
    }
   ],
   "source": [
    "X.drop_duplicates(inplace=True)\n",
    "X.reset_index(drop=True, inplace=True)\n",
    "X"
   ]
  },
  {
   "cell_type": "markdown",
   "id": "8c9d8ea4",
   "metadata": {},
   "source": [
    "## Generate feature"
   ]
  },
  {
   "cell_type": "code",
   "execution_count": 7,
   "id": "b79a3f11",
   "metadata": {},
   "outputs": [
    {
     "name": "stdout",
     "output_type": "stream",
     "text": [
      "  (0, 4161)\t1\n",
      "  (0, 4545)\t1\n",
      "  (0, 2427)\t1\n",
      "  (0, 3043)\t1\n",
      "  (0, 4987)\t1\n",
      "  (0, 1829)\t1\n",
      "  (0, 2809)\t1\n",
      "  (0, 4609)\t1\n",
      "  (0, 3387)\t1\n",
      "  (0, 2432)\t1\n",
      "  (0, 2314)\t2\n",
      "  (0, 2158)\t1\n",
      "  (0, 4531)\t1\n",
      "  (0, 4835)\t1\n",
      "  (0, 4793)\t1\n",
      "  (0, 1982)\t1\n",
      "  (0, 647)\t1\n",
      "  (0, 1013)\t1\n"
     ]
    }
   ],
   "source": [
    "from sklearn.feature_extraction.text import CountVectorizer\n",
    "\n",
    "count_vect = CountVectorizer()\n",
    "X_counts = count_vect.fit_transform(X.text)\n",
    "print(X_counts[0])"
   ]
  },
  {
   "cell_type": "code",
   "execution_count": 8,
   "id": "c5fdac7f",
   "metadata": {},
   "outputs": [
    {
     "name": "stdout",
     "output_type": "stream",
     "text": [
      "[ 1 36  3 ...  1  2  1]\n"
     ]
    }
   ],
   "source": [
    "import numpy as np\n",
    "term_frequencies = np.asarray(X_counts.sum(axis=0))[0]\n",
    "print(term_frequencies)"
   ]
  },
  {
   "cell_type": "markdown",
   "id": "a9d372a0",
   "metadata": {},
   "source": [
    "## _Generate meaningful new data visualizations_"
   ]
  },
  {
   "cell_type": "code",
   "execution_count": 10,
   "id": "18f4ac2a",
   "metadata": {},
   "outputs": [
    {
     "data": {
      "text/plain": [
       "<AxesSubplot:title={'center':'total distribution'}>"
      ]
     },
     "execution_count": 10,
     "metadata": {},
     "output_type": "execute_result"
    },
    {
     "data": {
      "image/png": "[encoded data removed]",
      "text/plain": [
       "<Figure size 432x288 with 1 Axes>"
      ]
     },
     "metadata": {
      "needs_background": "light"
     },
     "output_type": "display_data"
    }
   ],
   "source": [
    "X.category_name.value_counts().plot(kind = 'bar',\n",
    "                                    title = 'total distribution',        \n",
    "                                    rot = 0, fontsize = 11)"
   ]
  }
 ],
 "metadata": {
  "kernelspec": {
   "display_name": "Python 3 (ipykernel)",
   "language": "python",
   "name": "python3"
  },
  "language_info": {
   "codemirror_mode": {
    "name": "ipython",
    "version": 3
   },
   "file_extension": ".py",
   "mimetype": "text/x-python",
   "name": "python",
   "nbconvert_exporter": "python",
   "pygments_lexer": "ipython3",
   "version": "3.9.12"
  }
 },
 "nbformat": 4,
 "nbformat_minor": 5
}
