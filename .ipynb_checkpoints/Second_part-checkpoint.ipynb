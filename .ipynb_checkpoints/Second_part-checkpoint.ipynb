{
 "cells": [
  {
   "cell_type": "markdown",
   "id": "2c1cf44c",
   "metadata": {},
   "source": [
    "## Data Preparation"
   ]
  },
  {
   "cell_type": "code",
   "execution_count": 1,
   "id": "520369de",
   "metadata": {},
   "outputs": [],
   "source": [
    "categories = ['negative', 'positive']"
   ]
  },
  {
   "cell_type": "code",
   "execution_count": 11,
   "id": "0f43a146",
   "metadata": {
    "scrolled": true
   },
   "outputs": [],
   "source": [
    "data = []\n",
    "target_names = []\n",
    "\n",
    "with open(\"./sentiment labelled sentences/amazon_cells_labelled.txt\", encoding=\"utf-8\") as f:\n",
    "    for line in f:\n",
    "        (text, answer) = line.split('\\t')\n",
    "        data.append(text)\n",
    "        target_names.append(int(answer[:-1]))\n",
    "\n",
    "with open(\"./sentiment labelled sentences/imdb_labelled.txt\", encoding=\"utf-8\") as f:\n",
    "    for line in f:\n",
    "        (text, answer) = line.split('\\t')\n",
    "        data.append(text)\n",
    "        target_names.append(int(answer[:-1]))\n",
    "        \n",
    "with open(\"./sentiment labelled sentences/yelp_labelled.txt\", encoding=\"utf-8\") as f:\n",
    "    for line in f:\n",
    "        (text, answer) = line.split('\\t')\n",
    "        data.append(text)\n",
    "        target_names.append(int(answer[:-1]))\n",
    "\n",
    "dictionary = {}\n",
    "dictionary['data'] = data\n",
    "dictionary['target_names'] = target_names"
   ]
  },
  {
   "cell_type": "code",
   "execution_count": 3,
   "id": "9847c4ab",
   "metadata": {},
   "outputs": [
    {
     "data": {
      "text/plain": [
       "['So there is no way for me to plug it in here in the US unless I go by a converter.',\n",
       " 'Good case, Excellent value.',\n",
       " 'Great for the jawbone.',\n",
       " 'Tied to charger for conversations lasting more than 45 minutes.MAJOR PROBLEMS!!',\n",
       " 'The mic is great.',\n",
       " 'I have to jiggle the plug to get it to line up right to get decent volume.',\n",
       " 'If you have several dozen or several hundred contacts, then imagine the fun of sending each of them one by one.',\n",
       " 'If you are Razr owner...you must have this!',\n",
       " 'Needless to say, I wasted my money.',\n",
       " 'What a waste of money and time!.']"
      ]
     },
     "execution_count": 3,
     "metadata": {},
     "output_type": "execute_result"
    }
   ],
   "source": [
    "dictionary['data'][0:10]"
   ]
  },
  {
   "cell_type": "code",
   "execution_count": 4,
   "id": "bfb8cb62",
   "metadata": {},
   "outputs": [
    {
     "data": {
      "text/plain": [
       "[0, 1, 1, 0, 1, 0, 0, 1, 0, 0]"
      ]
     },
     "execution_count": 4,
     "metadata": {},
     "output_type": "execute_result"
    }
   ],
   "source": [
    "dictionary['target_names'][0:10]"
   ]
  },
  {
   "cell_type": "code",
   "execution_count": 5,
   "id": "a6dc3e75",
   "metadata": {},
   "outputs": [
    {
     "name": "stdout",
     "output_type": "stream",
     "text": [
      "negative\n",
      "positice\n",
      "positice\n",
      "negative\n",
      "positice\n",
      "negative\n",
      "negative\n",
      "positice\n",
      "negative\n",
      "negative\n"
     ]
    }
   ],
   "source": [
    "for i in range(10):\n",
    "    print(categories[dictionary['target_names'][i]])"
   ]
  },
  {
   "cell_type": "code",
   "execution_count": 37,
   "id": "157dcc96",
   "metadata": {},
   "outputs": [
    {
     "name": "stdout",
     "output_type": "stream",
     "text": [
      "3000\n",
      "                                                text\n",
      "0  So there is no way for me to plug it in here i...\n",
      "1                        Good case, Excellent value.\n",
      "2                             Great for the jawbone.\n",
      "3  Tied to charger for conversations lasting more...\n",
      "4                                  The mic is great.\n",
      "5  I have to jiggle the plug to get it to line up...\n",
      "6  If you have several dozen or several hundred c...\n",
      "7        If you are Razr owner...you must have this!\n",
      "8                Needless to say, I wasted my money.\n",
      "9                   What a waste of money and time!.\n"
     ]
    }
   ],
   "source": [
    "import pandas as pd\n",
    "X = pd.DataFrame(data, columns=['text'])\n",
    "print(len(X))\n",
    "print(X[0:10])"
   ]
  },
  {
   "cell_type": "code",
   "execution_count": 38,
   "id": "cdaf1d92",
   "metadata": {},
   "outputs": [
    {
     "data": {
      "text/html": [
       "<div>\n",
       "<style scoped>\n",
       "    .dataframe tbody tr th:only-of-type {\n",
       "        vertical-align: middle;\n",
       "    }\n",
       "\n",
       "    .dataframe tbody tr th {\n",
       "        vertical-align: top;\n",
       "    }\n",
       "\n",
       "    .dataframe thead th {\n",
       "        text-align: right;\n",
       "    }\n",
       "</style>\n",
       "<table border=\"1\" class=\"dataframe\">\n",
       "  <thead>\n",
       "    <tr style=\"text-align: right;\">\n",
       "      <th></th>\n",
       "      <th>text</th>\n",
       "      <th>category</th>\n",
       "      <th>category_name</th>\n",
       "    </tr>\n",
       "  </thead>\n",
       "  <tbody>\n",
       "    <tr>\n",
       "      <th>0</th>\n",
       "      <td>So there is no way for me to plug it in here i...</td>\n",
       "      <td>0</td>\n",
       "      <td>negative</td>\n",
       "    </tr>\n",
       "    <tr>\n",
       "      <th>1</th>\n",
       "      <td>Good case, Excellent value.</td>\n",
       "      <td>1</td>\n",
       "      <td>positice</td>\n",
       "    </tr>\n",
       "    <tr>\n",
       "      <th>2</th>\n",
       "      <td>Great for the jawbone.</td>\n",
       "      <td>1</td>\n",
       "      <td>positice</td>\n",
       "    </tr>\n",
       "    <tr>\n",
       "      <th>3</th>\n",
       "      <td>Tied to charger for conversations lasting more...</td>\n",
       "      <td>0</td>\n",
       "      <td>negative</td>\n",
       "    </tr>\n",
       "    <tr>\n",
       "      <th>4</th>\n",
       "      <td>The mic is great.</td>\n",
       "      <td>1</td>\n",
       "      <td>positice</td>\n",
       "    </tr>\n",
       "    <tr>\n",
       "      <th>...</th>\n",
       "      <td>...</td>\n",
       "      <td>...</td>\n",
       "      <td>...</td>\n",
       "    </tr>\n",
       "    <tr>\n",
       "      <th>2995</th>\n",
       "      <td>I think food should have flavor and texture an...</td>\n",
       "      <td>0</td>\n",
       "      <td>negative</td>\n",
       "    </tr>\n",
       "    <tr>\n",
       "      <th>2996</th>\n",
       "      <td>Appetite instantly gone.</td>\n",
       "      <td>0</td>\n",
       "      <td>negative</td>\n",
       "    </tr>\n",
       "    <tr>\n",
       "      <th>2997</th>\n",
       "      <td>Overall I was not impressed and would not go b...</td>\n",
       "      <td>0</td>\n",
       "      <td>negative</td>\n",
       "    </tr>\n",
       "    <tr>\n",
       "      <th>2998</th>\n",
       "      <td>The whole experience was underwhelming, and I ...</td>\n",
       "      <td>0</td>\n",
       "      <td>negative</td>\n",
       "    </tr>\n",
       "    <tr>\n",
       "      <th>2999</th>\n",
       "      <td>Then, as if I hadn't wasted enough of my life ...</td>\n",
       "      <td>0</td>\n",
       "      <td>negative</td>\n",
       "    </tr>\n",
       "  </tbody>\n",
       "</table>\n",
       "<p>3000 rows × 3 columns</p>\n",
       "</div>"
      ],
      "text/plain": [
       "                                                   text  category  \\\n",
       "0     So there is no way for me to plug it in here i...         0   \n",
       "1                           Good case, Excellent value.         1   \n",
       "2                                Great for the jawbone.         1   \n",
       "3     Tied to charger for conversations lasting more...         0   \n",
       "4                                     The mic is great.         1   \n",
       "...                                                 ...       ...   \n",
       "2995  I think food should have flavor and texture an...         0   \n",
       "2996                           Appetite instantly gone.         0   \n",
       "2997  Overall I was not impressed and would not go b...         0   \n",
       "2998  The whole experience was underwhelming, and I ...         0   \n",
       "2999  Then, as if I hadn't wasted enough of my life ...         0   \n",
       "\n",
       "     category_name  \n",
       "0         negative  \n",
       "1         positice  \n",
       "2         positice  \n",
       "3         negative  \n",
       "4         positice  \n",
       "...            ...  \n",
       "2995      negative  \n",
       "2996      negative  \n",
       "2997      negative  \n",
       "2998      negative  \n",
       "2999      negative  \n",
       "\n",
       "[3000 rows x 3 columns]"
      ]
     },
     "execution_count": 38,
     "metadata": {},
     "output_type": "execute_result"
    }
   ],
   "source": [
    "X['category'] = target_names\n",
    "\n",
    "temp_list = []\n",
    "for i in target_names:\n",
    "    temp_list.append(categories[target_names[i]])\n",
    "X['category_name'] = temp_list\n",
    "X"
   ]
  },
  {
   "cell_type": "markdown",
   "id": "13b3bb9e",
   "metadata": {},
   "source": [
    "## Data Mining using Pandas"
   ]
  },
  {
   "cell_type": "markdown",
   "id": "c5828172",
   "metadata": {},
   "source": [
    "### Missing Values"
   ]
  },
  {
   "cell_type": "code",
   "execution_count": 18,
   "id": "f7ac157e",
   "metadata": {},
   "outputs": [
    {
     "data": {
      "text/plain": [
       "text             0\n",
       "category         0\n",
       "category_name    0\n",
       "dtype: int64"
      ]
     },
     "execution_count": 18,
     "metadata": {},
     "output_type": "execute_result"
    }
   ],
   "source": [
    "X.isnull().sum()"
   ]
  },
  {
   "cell_type": "code",
   "execution_count": 19,
   "id": "831b9f8f",
   "metadata": {},
   "outputs": [],
   "source": [
    "dummy_dict = [{'text': 'dummy_record',\n",
    "               'category': 1\n",
    "              }]"
   ]
  },
  {
   "cell_type": "code",
   "execution_count": 20,
   "id": "2035680a",
   "metadata": {},
   "outputs": [],
   "source": [
    "X = pd.concat([X, pd.DataFrame(dummy_dict)], ignore_index=True)"
   ]
  },
  {
   "cell_type": "code",
   "execution_count": 21,
   "id": "a8e2c85d",
   "metadata": {},
   "outputs": [
    {
     "data": {
      "text/plain": [
       "text             0\n",
       "category         0\n",
       "category_name    1\n",
       "dtype: int64"
      ]
     },
     "execution_count": 21,
     "metadata": {},
     "output_type": "execute_result"
    }
   ],
   "source": [
    "X.isnull().sum()"
   ]
  },
  {
   "cell_type": "code",
   "execution_count": 22,
   "id": "2fad23b8",
   "metadata": {},
   "outputs": [],
   "source": [
    "X.dropna(inplace=True)"
   ]
  },
  {
   "cell_type": "code",
   "execution_count": 24,
   "id": "0da56e50",
   "metadata": {},
   "outputs": [
    {
     "name": "stdout",
     "output_type": "stream",
     "text": [
      "3000\n"
     ]
    }
   ],
   "source": [
    "X.isnull().sum()\n",
    "print(len(X))"
   ]
  },
  {
   "cell_type": "markdown",
   "id": "e175ffa7",
   "metadata": {},
   "source": [
    "### Dealing with Duplicate Data"
   ]
  },
  {
   "cell_type": "code",
   "execution_count": 39,
   "id": "6dade5bc",
   "metadata": {},
   "outputs": [
    {
     "data": {
      "text/plain": [
       "17"
      ]
     },
     "execution_count": 39,
     "metadata": {},
     "output_type": "execute_result"
    }
   ],
   "source": [
    "sum(X.duplicated())"
   ]
  },
  {
   "cell_type": "code",
   "execution_count": 43,
   "id": "486c1409",
   "metadata": {},
   "outputs": [
    {
     "data": {
      "text/html": [
       "<div>\n",
       "<style scoped>\n",
       "    .dataframe tbody tr th:only-of-type {\n",
       "        vertical-align: middle;\n",
       "    }\n",
       "\n",
       "    .dataframe tbody tr th {\n",
       "        vertical-align: top;\n",
       "    }\n",
       "\n",
       "    .dataframe thead th {\n",
       "        text-align: right;\n",
       "    }\n",
       "</style>\n",
       "<table border=\"1\" class=\"dataframe\">\n",
       "  <thead>\n",
       "    <tr style=\"text-align: right;\">\n",
       "      <th></th>\n",
       "      <th>text</th>\n",
       "      <th>category</th>\n",
       "      <th>category_name</th>\n",
       "    </tr>\n",
       "  </thead>\n",
       "  <tbody>\n",
       "    <tr>\n",
       "      <th>1788</th>\n",
       "      <td>10/10</td>\n",
       "      <td>1</td>\n",
       "      <td>positice</td>\n",
       "    </tr>\n",
       "    <tr>\n",
       "      <th>1125</th>\n",
       "      <td>10/10</td>\n",
       "      <td>1</td>\n",
       "      <td>positice</td>\n",
       "    </tr>\n",
       "    <tr>\n",
       "      <th>1363</th>\n",
       "      <td>Definitely worth checking out.</td>\n",
       "      <td>1</td>\n",
       "      <td>positice</td>\n",
       "    </tr>\n",
       "    <tr>\n",
       "      <th>1090</th>\n",
       "      <td>Definitely worth checking out.</td>\n",
       "      <td>1</td>\n",
       "      <td>positice</td>\n",
       "    </tr>\n",
       "    <tr>\n",
       "      <th>748</th>\n",
       "      <td>Does not fit.</td>\n",
       "      <td>0</td>\n",
       "      <td>negative</td>\n",
       "    </tr>\n",
       "    <tr>\n",
       "      <th>446</th>\n",
       "      <td>Does not fit.</td>\n",
       "      <td>0</td>\n",
       "      <td>negative</td>\n",
       "    </tr>\n",
       "    <tr>\n",
       "      <th>180</th>\n",
       "      <td>Don't buy this product.</td>\n",
       "      <td>0</td>\n",
       "      <td>negative</td>\n",
       "    </tr>\n",
       "    <tr>\n",
       "      <th>543</th>\n",
       "      <td>Don't buy this product.</td>\n",
       "      <td>0</td>\n",
       "      <td>negative</td>\n",
       "    </tr>\n",
       "    <tr>\n",
       "      <th>402</th>\n",
       "      <td>Excellent product for the price.</td>\n",
       "      <td>1</td>\n",
       "      <td>positice</td>\n",
       "    </tr>\n",
       "    <tr>\n",
       "      <th>892</th>\n",
       "      <td>Excellent product for the price.</td>\n",
       "      <td>1</td>\n",
       "      <td>positice</td>\n",
       "    </tr>\n",
       "    <tr>\n",
       "      <th>792</th>\n",
       "      <td>Great Phone.</td>\n",
       "      <td>1</td>\n",
       "      <td>positice</td>\n",
       "    </tr>\n",
       "    <tr>\n",
       "      <th>290</th>\n",
       "      <td>Great Phone.</td>\n",
       "      <td>1</td>\n",
       "      <td>positice</td>\n",
       "    </tr>\n",
       "    <tr>\n",
       "      <th>285</th>\n",
       "      <td>Great phone!.</td>\n",
       "      <td>1</td>\n",
       "      <td>positice</td>\n",
       "    </tr>\n",
       "    <tr>\n",
       "      <th>187</th>\n",
       "      <td>Great phone!.</td>\n",
       "      <td>1</td>\n",
       "      <td>positice</td>\n",
       "    </tr>\n",
       "    <tr>\n",
       "      <th>896</th>\n",
       "      <td>Great phone.</td>\n",
       "      <td>1</td>\n",
       "      <td>positice</td>\n",
       "    </tr>\n",
       "    <tr>\n",
       "      <th>647</th>\n",
       "      <td>Great phone.</td>\n",
       "      <td>1</td>\n",
       "      <td>positice</td>\n",
       "    </tr>\n",
       "    <tr>\n",
       "      <th>2334</th>\n",
       "      <td>I love this place.</td>\n",
       "      <td>1</td>\n",
       "      <td>positice</td>\n",
       "    </tr>\n",
       "    <tr>\n",
       "      <th>2814</th>\n",
       "      <td>I love this place.</td>\n",
       "      <td>1</td>\n",
       "      <td>positice</td>\n",
       "    </tr>\n",
       "    <tr>\n",
       "      <th>2380</th>\n",
       "      <td>I won't be back.</td>\n",
       "      <td>0</td>\n",
       "      <td>negative</td>\n",
       "    </tr>\n",
       "    <tr>\n",
       "      <th>2843</th>\n",
       "      <td>I won't be back.</td>\n",
       "      <td>0</td>\n",
       "      <td>negative</td>\n",
       "    </tr>\n",
       "    <tr>\n",
       "      <th>2505</th>\n",
       "      <td>I would not recommend this place.</td>\n",
       "      <td>0</td>\n",
       "      <td>negative</td>\n",
       "    </tr>\n",
       "    <tr>\n",
       "      <th>2846</th>\n",
       "      <td>I would not recommend this place.</td>\n",
       "      <td>0</td>\n",
       "      <td>negative</td>\n",
       "    </tr>\n",
       "    <tr>\n",
       "      <th>744</th>\n",
       "      <td>If you like a loud buzzing to override all you...</td>\n",
       "      <td>0</td>\n",
       "      <td>negative</td>\n",
       "    </tr>\n",
       "    <tr>\n",
       "      <th>179</th>\n",
       "      <td>If you like a loud buzzing to override all you...</td>\n",
       "      <td>0</td>\n",
       "      <td>negative</td>\n",
       "    </tr>\n",
       "    <tr>\n",
       "      <th>1572</th>\n",
       "      <td>Not recommended.</td>\n",
       "      <td>0</td>\n",
       "      <td>negative</td>\n",
       "    </tr>\n",
       "    <tr>\n",
       "      <th>1585</th>\n",
       "      <td>Not recommended.</td>\n",
       "      <td>0</td>\n",
       "      <td>negative</td>\n",
       "    </tr>\n",
       "    <tr>\n",
       "      <th>2383</th>\n",
       "      <td>The food was terrible.</td>\n",
       "      <td>0</td>\n",
       "      <td>negative</td>\n",
       "    </tr>\n",
       "    <tr>\n",
       "      <th>2816</th>\n",
       "      <td>The food was terrible.</td>\n",
       "      <td>0</td>\n",
       "      <td>negative</td>\n",
       "    </tr>\n",
       "    <tr>\n",
       "      <th>778</th>\n",
       "      <td>This is a great deal.</td>\n",
       "      <td>1</td>\n",
       "      <td>positice</td>\n",
       "    </tr>\n",
       "    <tr>\n",
       "      <th>392</th>\n",
       "      <td>This is a great deal.</td>\n",
       "      <td>1</td>\n",
       "      <td>positice</td>\n",
       "    </tr>\n",
       "    <tr>\n",
       "      <th>524</th>\n",
       "      <td>Works great!.</td>\n",
       "      <td>1</td>\n",
       "      <td>positice</td>\n",
       "    </tr>\n",
       "    <tr>\n",
       "      <th>18</th>\n",
       "      <td>Works great!.</td>\n",
       "      <td>1</td>\n",
       "      <td>positice</td>\n",
       "    </tr>\n",
       "    <tr>\n",
       "      <th>407</th>\n",
       "      <td>Works great.</td>\n",
       "      <td>1</td>\n",
       "      <td>positice</td>\n",
       "    </tr>\n",
       "    <tr>\n",
       "      <th>262</th>\n",
       "      <td>Works great.</td>\n",
       "      <td>1</td>\n",
       "      <td>positice</td>\n",
       "    </tr>\n",
       "  </tbody>\n",
       "</table>\n",
       "</div>"
      ],
      "text/plain": [
       "                                                   text  category  \\\n",
       "1788                                            10/10           1   \n",
       "1125                                            10/10           1   \n",
       "1363                   Definitely worth checking out.           1   \n",
       "1090                   Definitely worth checking out.           1   \n",
       "748                                       Does not fit.         0   \n",
       "446                                       Does not fit.         0   \n",
       "180                             Don't buy this product.         0   \n",
       "543                             Don't buy this product.         0   \n",
       "402                    Excellent product for the price.         1   \n",
       "892                    Excellent product for the price.         1   \n",
       "792                                        Great Phone.         1   \n",
       "290                                        Great Phone.         1   \n",
       "285                                       Great phone!.         1   \n",
       "187                                       Great phone!.         1   \n",
       "896                                        Great phone.         1   \n",
       "647                                        Great phone.         1   \n",
       "2334                                 I love this place.         1   \n",
       "2814                                 I love this place.         1   \n",
       "2380                                   I won't be back.         0   \n",
       "2843                                   I won't be back.         0   \n",
       "2505                  I would not recommend this place.         0   \n",
       "2846                  I would not recommend this place.         0   \n",
       "744   If you like a loud buzzing to override all you...         0   \n",
       "179   If you like a loud buzzing to override all you...         0   \n",
       "1572                                 Not recommended.           0   \n",
       "1585                                 Not recommended.           0   \n",
       "2383                             The food was terrible.         0   \n",
       "2816                             The food was terrible.         0   \n",
       "778                               This is a great deal.         1   \n",
       "392                               This is a great deal.         1   \n",
       "524                                       Works great!.         1   \n",
       "18                                        Works great!.         1   \n",
       "407                                        Works great.         1   \n",
       "262                                        Works great.         1   \n",
       "\n",
       "     category_name  \n",
       "1788      positice  \n",
       "1125      positice  \n",
       "1363      positice  \n",
       "1090      positice  \n",
       "748       negative  \n",
       "446       negative  \n",
       "180       negative  \n",
       "543       negative  \n",
       "402       positice  \n",
       "892       positice  \n",
       "792       positice  \n",
       "290       positice  \n",
       "285       positice  \n",
       "187       positice  \n",
       "896       positice  \n",
       "647       positice  \n",
       "2334      positice  \n",
       "2814      positice  \n",
       "2380      negative  \n",
       "2843      negative  \n",
       "2505      negative  \n",
       "2846      negative  \n",
       "744       negative  \n",
       "179       negative  \n",
       "1572      negative  \n",
       "1585      negative  \n",
       "2383      negative  \n",
       "2816      negative  \n",
       "778       positice  \n",
       "392       positice  \n",
       "524       positice  \n",
       "18        positice  \n",
       "407       positice  \n",
       "262       positice  "
      ]
     },
     "execution_count": 43,
     "metadata": {},
     "output_type": "execute_result"
    }
   ],
   "source": [
    "# find which ones are duplicated\n",
    "X[X.duplicated(keep=False)].sort_values(\"text\")"
   ]
  },
  {
   "cell_type": "code",
   "execution_count": 35,
   "id": "acf10276",
   "metadata": {},
   "outputs": [],
   "source": [
    "# keep參數，default \"First\"為第一個之後重複的都刪除\n",
    "X.drop_duplicates(inplace=True)"
   ]
  },
  {
   "cell_type": "code",
   "execution_count": 36,
   "id": "430de838",
   "metadata": {},
   "outputs": [
    {
     "name": "stdout",
     "output_type": "stream",
     "text": [
      "0\n",
      "2983\n"
     ]
    }
   ],
   "source": [
    "print(sum(X.duplicated()))\n",
    "print(len(X))"
   ]
  },
  {
   "cell_type": "markdown",
   "id": "686f8fb6",
   "metadata": {},
   "source": [
    "## Data Preprocessing"
   ]
  },
  {
   "cell_type": "code",
   "execution_count": null,
   "id": "3fa6adc1",
   "metadata": {},
   "outputs": [],
   "source": []
  }
 ],
 "metadata": {
  "kernelspec": {
   "display_name": "Python 3 (ipykernel)",
   "language": "python",
   "name": "python3"
  },
  "language_info": {
   "codemirror_mode": {
    "name": "ipython",
    "version": 3
   },
   "file_extension": ".py",
   "mimetype": "text/x-python",
   "name": "python",
   "nbconvert_exporter": "python",
   "pygments_lexer": "ipython3",
   "version": "3.9.12"
  }
 },
 "nbformat": 4,
 "nbformat_minor": 5
}
